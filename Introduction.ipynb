{
 "cells": [
  {
   "cell_type": "markdown",
   "metadata": {},
   "source": [
    "# Anaconda/Miniconda\n",
    "---"
   ]
  },
  {
   "cell_type": "markdown",
   "metadata": {},
   "source": [
    "## Downloading Miniconda/Anaconda\n",
    "\n",
    "Anaconda is python distribution which bundles all the required datascience tools.\n",
    "\n",
    "> Download Anaconda from [Anaconda Website](https://www.continuum.io/downloads). Use Python 3 version.\n",
    "\n",
    "Miniconda is smaller version of Anaconda, which contains only required packages to run anaconda.\n",
    "\n",
    "> Download miniconda from [Miniconda website](http://conda.pydata.org/miniconda.html). Use Python 3 version.\n",
    "\n",
    "\n",
    "## Installation\n",
    "---\n",
    "\n",
    "\n",
    "Windows\n",
    "\n",
    "  - Install exe file\n",
    "  - update environment variable with installed miniconda path. [See Instructions](https://www.microsoft.com/resources/documentation/windows/xp/all/proddocs/en-us/sysdm_advancd_environmnt_addchange_variable.mspx)\n",
    "\n",
    "Linux\n",
    "\n",
    "    > chmod +x Miniconda3-latest-Linux-x86_64.sh\n",
    "    > ./Miniconda3-latest-Linux-x86_64.sh\n",
    "    > nano ~/.bashrc\n",
    "\n",
    "Mac\n",
    "\n",
    "    > chmod +x Miniconda3-latest-MacOSX-x86_64.sh\n",
    "    > ./Miniconda3-latest-MacOSX-x86_64.sh\n",
    "    > nano ~/.bash_profile\n",
    "\n",
    "Add line below to .bashrc or .bash_profile or .zshrc file\n",
    "\n",
    "```sh \n",
    "    export PATH=$PATH:~/miniconda3/bin\n",
    "```"
   ]
  },
  {
   "cell_type": "markdown",
   "metadata": {},
   "source": [
    "# Introduction to Jupyter\n",
    "---"
   ]
  },
  {
   "cell_type": "markdown",
   "metadata": {},
   "source": [
    "- Run Anaconda launcher and  launch Jupyter from laucher application.\n",
    "- Browser window is automatically opened with page that looks like this ![screenshot1](images/jupyter-startup.png)"
   ]
  },
  {
   "cell_type": "markdown",
   "metadata": {},
   "source": [
    "- From right corner, click New and select \"Python 3\" from dropdown.\n",
    "- A new tab will open that looks like below\n",
    "![blank notebook](images/notebook-blank.png)"
   ]
  },
  {
   "cell_type": "code",
   "execution_count": 1,
   "metadata": {
    "collapsed": false
   },
   "outputs": [
    {
     "name": "stdout",
     "output_type": "stream",
     "text": [
      "Hello World\n"
     ]
    }
   ],
   "source": [
    "print(\"Hello World\")"
   ]
  },
  {
   "cell_type": "markdown",
   "metadata": {},
   "source": [
    "*To run code like above type `print(\"Hello World\")` and hit Ctrl+Enter*\n",
    "\n",
    "*Or to run a cell and create new one below hit Alt+Enter*\n",
    "\n",
    "*You can also use toolbar, plus ($+$) sign to create a new cell*"
   ]
  },
  {
   "cell_type": "code",
   "execution_count": null,
   "metadata": {
    "collapsed": true
   },
   "outputs": [],
   "source": []
  },
  {
   "cell_type": "markdown",
   "metadata": {},
   "source": [
    "Each of these is called cell"
   ]
  },
  {
   "cell_type": "markdown",
   "metadata": {},
   "source": []
  }
 ],
 "metadata": {
  "anaconda-cloud": {},
  "kernelspec": {
   "display_name": "Python [default]",
   "language": "python",
   "name": "python3"
  },
  "language_info": {
   "codemirror_mode": {
    "name": "ipython",
    "version": 3
   },
   "file_extension": ".py",
   "mimetype": "text/x-python",
   "name": "python",
   "nbconvert_exporter": "python",
   "pygments_lexer": "ipython3",
   "version": "3.5.2"
  }
 },
 "nbformat": 4,
 "nbformat_minor": 0
}
