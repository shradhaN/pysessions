{
 "cells": [
  {
   "cell_type": "markdown",
   "metadata": {},
   "source": [
    "# Flask\n",
    "---"
   ]
  },
  {
   "cell_type": "markdown",
   "metadata": {},
   "source": [
    "Flask is a web framework for python, also termed as \"microframework\" because it doesnot provide any extra modules other than required for handling http request/response."
   ]
  },
  {
   "cell_type": "markdown",
   "metadata": {},
   "source": [
    "## Starting new project"
   ]
  },
  {
   "cell_type": "markdown",
   "metadata": {},
   "source": [
    "- Idea/Analysis/Design\n",
    "- Name of project\n",
    "- Create a project workspace\n",
    "- Start working on project"
   ]
  },
  {
   "cell_type": "markdown",
   "metadata": {},
   "source": [
    "### Idea/Analysis/Design\n",
    "\n",
    "*Shows visualisation of weather of Nepal in web application*"
   ]
  },
  {
   "cell_type": "markdown",
   "metadata": {},
   "source": [
    "**Mindmap about what are crude parts of our project**\n",
    "\n",
    "![](../../images/jalbayu/jalbayu_mindmap.png)"
   ]
  },
  {
   "cell_type": "markdown",
   "metadata": {},
   "source": [
    "### Name\n",
    "\n",
    "**jalbayu**"
   ]
  },
  {
   "cell_type": "markdown",
   "metadata": {},
   "source": [
    "### Create a project workspace"
   ]
  },
  {
   "cell_type": "markdown",
   "metadata": {
    "collapsed": true
   },
   "source": [
    "*first create a project directory inside samples directory*\n",
    "\n",
    "    mkdir -p ../Samples/jalbayu"
   ]
  },
  {
   "cell_type": "markdown",
   "metadata": {
    "collapsed": true
   },
   "source": [
    "*we have blank directory*\n",
    "\n",
    "    ls ../Samples/jalbayu/"
   ]
  },
  {
   "cell_type": "markdown",
   "metadata": {
    "collapsed": false
   },
   "source": [
    "*create a new file inside jalbayu named __environment.yml__ with following content*\n",
    "\n",
    "\n",
    "```yaml\n",
    "name: jalbayu\n",
    "dependencies:\n",
    "    - python\n",
    "    - flask\n",
    "```"
   ]
  },
  {
   "cell_type": "markdown",
   "metadata": {},
   "source": [
    "**Create new environment for project**\n",
    "\n",
    "```sh\n",
    "# change into project directory\n",
    "$ cd jalbayu\n",
    "\n",
    "# create a new environment using environment.yml file\n",
    "$ conda env create\n",
    "\n",
    "# activate environment\n",
    "$ source activate jalbayu\n",
    "\n",
    "# list all installed packages\n",
    "$ conda list\n",
    "```"
   ]
  },
  {
   "cell_type": "markdown",
   "metadata": {},
   "source": [
    "**Start using git from start**\n",
    "\n",
    "```sh\n",
    "# initialize git repository\n",
    "$ git init\n",
    "\n",
    "# check status\n",
    "$ git status\n",
    "\n",
    "# add environment.yml file to repository\n",
    "$ git add environment.yml\n",
    "\n",
    "# commit the changes\n",
    "$ git commit -m \"initial commit\"\n",
    "\n",
    "# make sure, what we want are committed properly\n",
    "$ git status\n",
    "$ git log\n",
    "```"
   ]
  },
  {
   "cell_type": "markdown",
   "metadata": {},
   "source": [
    "**Create a new spyder project**\n",
    "\n",
    "![](../../images/jalbayu/spyder_project.png)"
   ]
  },
  {
   "cell_type": "markdown",
   "metadata": {},
   "source": [
    "**gitignore**\n",
    "\n",
    "```sh\n",
    "\n",
    "# vim is commandline editor for linux\n",
    "# you can use notepad/notepadd++ or spyder\n",
    "# If using vim then\n",
    "#      press \"i\" to start editing and press \"colon\" ie \":\" and then \"wq\" and enter to save and exit\n",
    "$ vim .gitignore\n",
    "```"
   ]
  },
  {
   "cell_type": "markdown",
   "metadata": {
    "collapsed": false
   },
   "source": [
    "*content of __.gitignore__*\n",
    "\n",
    "```gitignore\n",
    ".spyderproject\n",
    "```\n"
   ]
  },
  {
   "cell_type": "markdown",
   "metadata": {},
   "source": [
    "*Now*\n",
    "```sh\n",
    "\n",
    "# add .gitignore file\n",
    "$ git add .gitignore\n",
    "\n",
    "# commit the changes\n",
    "$ git commit -m \"added gitignore file\"\n",
    "```"
   ]
  },
  {
   "cell_type": "markdown",
   "metadata": {},
   "source": [
    "**Create a simple hello world app**"
   ]
  },
  {
   "cell_type": "markdown",
   "metadata": {
    "collapsed": false
   },
   "source": [
    "*create a file named __app.py__ with following contents*\n",
    "\n",
    "```python\n",
    "# -*- coding: utf-8 -*-\n",
    "\n",
    "# import Flask from module \"flask\"\n",
    "from flask import Flask\n",
    "\n",
    "\n",
    "# create a new web application object\n",
    "application = Flask(__name__)\n",
    "\n",
    "\n",
    "# add a new route \n",
    "# http://localhost:5000/\n",
    "@application.route('/')\n",
    "def index():\n",
    "    # we are returning a html string\n",
    "    return \"<h1>Hello World</h1>\"\n",
    "\n",
    "\n",
    "if __name__ == '__main__':\n",
    "    # run the application\n",
    "    application.run()\n",
    "```"
   ]
  },
  {
   "cell_type": "markdown",
   "metadata": {},
   "source": [
    "**Run the application**\n",
    "\n",
    "```sh\n",
    "\n",
    "$ python app.py\n",
    "* Running on http://127.0.0.1:5000/ (Press CTRL+C to quit)\n",
    "\n",
    "```\n",
    "\n",
    "*Open browser with http://localhost:5000*"
   ]
  },
  {
   "cell_type": "code",
   "execution_count": null,
   "metadata": {
    "collapsed": true
   },
   "outputs": [],
   "source": []
  },
  {
   "cell_type": "markdown",
   "metadata": {
    "collapsed": true
   },
   "source": [
    "**Templates**\n",
    "\n",
    "*using templates for html page instead of just passing them as html string*\n",
    "\n",
    "__app.py__\n",
    "\n",
    "```python\n",
    "# -*- coding: utf-8 -*-\n",
    "\n",
    "# import Flask from module \"flask\"\n",
    "from flask import Flask, render_template\n",
    "\n",
    "\n",
    "# create a new web application object\n",
    "application = Flask(__name__)\n",
    "\n",
    "\n",
    "# add a new route \n",
    "# http://localhost:5000/\n",
    "@application.route('/')\n",
    "def index():\n",
    "    # render templates searches given template file inside templates/ directory\n",
    "    # and renders that template as html\n",
    "    return render_template('hello.html')\n",
    "\n",
    "\n",
    "if __name__ == '__main__':\n",
    "    application.run()\n",
    "```"
   ]
  },
  {
   "cell_type": "markdown",
   "metadata": {},
   "source": [
    "**Create a templates directory**\n",
    "\n",
    "    $ mkdir -p templates\n",
    "\n",
    "*Create a file named __hello.html__ inside __templates__ with contents as*\n",
    "```html\n",
    "<html>\n",
    "    <head>\n",
    "        <title>Hello World</title>\n",
    "    </head>\n",
    "    \n",
    "    <body>\n",
    "        <h1>Hello World</h1>\n",
    "    </body>\n",
    "</html>\n",
    "```"
   ]
  },
  {
   "cell_type": "markdown",
   "metadata": {},
   "source": [
    "**Restarting the server**\n",
    "\n",
    "*Hit Ctrl+C on terminal/prompt where our application is running, and rerun the server as*\n",
    "\n",
    "```sh\n",
    "$ python app.py\n",
    "* Running on http://127.0.0.1:5000/ (Press CTRL+C to quit)\n",
    "```"
   ]
  },
  {
   "cell_type": "markdown",
   "metadata": {},
   "source": [
    "**Reloading the server without restarting it manually**\n",
    "\n",
    "*Enable debug mode, __app.py__*\n",
    "\n",
    "```python\n",
    "...\n",
    "if __name__ == '__main__':\n",
    "    # enable debug mode\n",
    "    # with this enabled we can view errors on browser\n",
    "    #  and server will automatically reload on every changes on python code\n",
    "    application.run(debug=True)\n",
    "```"
   ]
  },
  {
   "cell_type": "markdown",
   "metadata": {},
   "source": [
    "*Restart the server again, this time it will be on debug mode*"
   ]
  },
  {
   "cell_type": "code",
   "execution_count": null,
   "metadata": {
    "collapsed": true
   },
   "outputs": [],
   "source": []
  },
  {
   "cell_type": "markdown",
   "metadata": {},
   "source": [
    "**templates/login.html**\n",
    "```html\n",
    "\n",
    "    <!-- form starts here -->\n",
    "    <h1>Login</h1>\n",
    "    <hr/>\n",
    "    <form method=\"post\" action=\"\">\n",
    "  <div>\n",
    "    <label for=\"email\">Email</label>\n",
    "    <input type=\"email\" id=\"email\" placeholder=\"Email\" name=\"email\">\n",
    "  </div>\n",
    "  <div>\n",
    "    <label for=\"password\">Password</label>\n",
    "    <input type=\"password\" id=\"password\" placeholder=\"Password\" name=\"password\">\n",
    "  </div>\n",
    "  <button type=\"submit\">Login</button>\n",
    "</form>\n",
    "\n",
    "<!-- form ends here -->\n",
    "\n",
    "```"
   ]
  },
  {
   "cell_type": "markdown",
   "metadata": {},
   "source": [
    "__app.py__\n",
    "\n",
    "```python\n",
    "...\n",
    "\n",
    "# methods=['GET', 'POST'] means we are accepting both Request types\n",
    "@application.route('/login', methods=['GET', 'POST'])\n",
    "def login():\n",
    "    if request.method == 'POST':\n",
    "        # if we get POST data, ie someone submitted the login form\n",
    "        # just print what we obtained from browser\n",
    "        print(\"Posted data\", request.form)\n",
    "    # after everything is done show login form, or show form if this is GET request\n",
    "    return render_template('login.html')\n",
    "...\n",
    "```"
   ]
  },
  {
   "cell_type": "markdown",
   "metadata": {},
   "source": [
    "![](../../images/jalbayu/login_plain_html.png)"
   ]
  },
  {
   "cell_type": "markdown",
   "metadata": {},
   "source": [
    "**templates/login.html**\n",
    "\n",
    "```html\n",
    "<!DOCTYPE html>\n",
    "<html lang=\"en\">\n",
    "  <head>\n",
    "    <meta charset=\"utf-8\">\n",
    "    <meta http-equiv=\"X-UA-Compatible\" content=\"IE=edge\">\n",
    "    <meta name=\"viewport\" content=\"width=device-width, initial-scale=1\">\n",
    "    <!-- The above 3 meta tags *must* come first in the head; any other head content must come *after* these tags -->\n",
    "    <title>JalBayu - Login Page</title>\n",
    "\n",
    "    <!-- Bootstrap -->\n",
    "    <link rel=\"stylesheet\" href=\"https://maxcdn.bootstrapcdn.com/bootstrap/3.3.6/css/bootstrap.min.css\" integrity=\"sha384-1q8mTJOASx8j1Au+a5WDVnPi2lkFfwwEAa8hDDdjZlpLegxhjVME1fgjWPGmkzs7\" crossorigin=\"anonymous\">\n",
    "\n",
    "    <!-- HTML5 shim and Respond.js for IE8 support of HTML5 elements and media queries -->\n",
    "    <!-- WARNING: Respond.js doesn't work if you view the page via file:// -->\n",
    "    <!--[if lt IE 9]>\n",
    "      <script src=\"https://oss.maxcdn.com/html5shiv/3.7.2/html5shiv.min.js\"></script>\n",
    "      <script src=\"https://oss.maxcdn.com/respond/1.4.2/respond.min.js\"></script>\n",
    "    <![endif]-->\n",
    "  </head>\n",
    "  <body>\n",
    "    \n",
    "    <div class=\"container\">\n",
    "        <div class=\"row\">\n",
    "            <div class=\"col-md-3\"></div>\n",
    "            <div class=\"col-md-6\">\n",
    "    <!-- form starts here -->\n",
    "    <h1>Login</h1>\n",
    "    <hr/>\n",
    "    <form method=\"post\" action=\"\">\n",
    "  <div class=\"form-group\">\n",
    "    <label for=\"email\">Email</label>\n",
    "    <input type=\"email\" class=\"form-control\" id=\"email\" placeholder=\"Email\" name=\"email\">\n",
    "  </div>\n",
    "  <div class=\"form-group\">\n",
    "    <label for=\"password\">Password</label>\n",
    "    <input type=\"password\" class=\"form-control\" id=\"password\" placeholder=\"Password\" name=\"password\">\n",
    "  </div>\n",
    "  <button type=\"submit\" class=\"btn btn-default\">Login</button>\n",
    "</form>\n",
    "\n",
    "<!-- form ends here -->\n",
    "            </div>\n",
    "        </div>\n",
    "    </div>\n",
    "\n",
    "    <!-- jQuery (necessary for Bootstrap's JavaScript plugins) -->\n",
    "    <!-- <script src=\"https://ajax.googleapis.com/ajax/libs/jquery/1.11.3/jquery.min.js\"></script> -->\n",
    "    <!-- Include all compiled plugins (below), or include individual files as needed -->\n",
    "  </body>\n",
    "</html>\n",
    "```"
   ]
  },
  {
   "cell_type": "markdown",
   "metadata": {},
   "source": [
    "*- Note that we have also used [bootstrap](http://getbootstrap.com), a css framework. Infact this whole base template is copied from bootstrap template example snippet.*"
   ]
  },
  {
   "cell_type": "markdown",
   "metadata": {},
   "source": [
    "### Jinja2\n",
    "\n",
    "Jinja2 is template language used with Flask and other python frameworks\n",
    "\n",
    "```html\n",
    "\n",
    "{{ some_variable }} prints the value of <b>some_variable</b>\n",
    "\n",
    "{{ 2 + 5 }} is evaluated and prints the result.\n",
    "\n",
    "{% block section %}{% endblock %}\n",
    "\n",
    "{% for i in some_list %}\n",
    "<li>{{ i }}</li>\n",
    "{% endfor %}\n",
    "\n",
    "{% if some_value %}\n",
    "<span>This is inside if</span>\n",
    "{% else %}\n",
    "<span>This is inside else</span>\n",
    "{% endif %}\n",
    "```"
   ]
  },
  {
   "cell_type": "markdown",
   "metadata": {
    "collapsed": true
   },
   "source": [
    "**Template Inheritence**\n",
    "\n",
    "We will create a single template for every repeated block of html code, for eg. headers, footers etc.\n",
    "\n",
    "__base.html__\n",
    "```html\n",
    "<!DOCTYPE html>\n",
    "<html lang=\"en\">\n",
    "  <head>\n",
    "    <meta charset=\"utf-8\">\n",
    "    <meta http-equiv=\"X-UA-Compatible\" content=\"IE=edge\">\n",
    "    <meta name=\"viewport\" content=\"width=device-width, initial-scale=1\">\n",
    "    <!-- The above 3 meta tags *must* come first in the head; any other head content must come *after* these tags -->\n",
    "    <title>JalBayu - {% block title %}{% endblock %}</title>\n",
    "\n",
    "    <!-- Bootstrap -->\n",
    "    <link rel=\"stylesheet\" href=\"https://maxcdn.bootstrapcdn.com/bootstrap/3.3.6/css/bootstrap.min.css\" integrity=\"sha384-1q8mTJOASx8j1Au+a5WDVnPi2lkFfwwEAa8hDDdjZlpLegxhjVME1fgjWPGmkzs7\" crossorigin=\"anonymous\">\n",
    "\n",
    "    <!-- HTML5 shim and Respond.js for IE8 support of HTML5 elements and media queries -->\n",
    "    <!-- WARNING: Respond.js doesn't work if you view the page via file:// -->\n",
    "    <!--[if lt IE 9]>\n",
    "      <script src=\"https://oss.maxcdn.com/html5shiv/3.7.2/html5shiv.min.js\"></script>\n",
    "      <script src=\"https://oss.maxcdn.com/respond/1.4.2/respond.min.js\"></script>\n",
    "    <![endif]-->\n",
    "  </head>\n",
    "  <body>\n",
    "    <div class=\"container\">\n",
    "        {% block main %}{% endblock %}\n",
    "    </div>\n",
    "\n",
    "    <!-- jQuery (necessary for Bootstrap's JavaScript plugins) -->\n",
    "    <!-- <script src=\"https://ajax.googleapis.com/ajax/libs/jquery/1.11.3/jquery.min.js\"></script> -->\n",
    "    <!-- Include all compiled plugins (below), or include individual files as needed -->\n",
    "  </body>\n",
    "</html>\n",
    "```"
   ]
  },
  {
   "cell_type": "markdown",
   "metadata": {},
   "source": [
    "*Lets update our __hello.html__ to use this base template, with contents as*\n",
    "\n",
    "```html\n",
    "{% extends 'base.html' %}\n",
    "\n",
    "{% block title %}Hello {{ name }}{% endblock %}\n",
    "\n",
    "{% block main %}<h1>Hello {{ name }}</h1>{% endblock %}\n",
    "```\n",
    "\n",
    "In Above\n",
    "- __extends__ means we are using __base.html__ template as our parent template\n",
    "- whatever we write inside __{% block title %}__ and __{% endblock %}__ in __hello.py__ template will be overwritten inside blocks of same name of parent ( in this case __base.html__ file).\n",
    "\n",
    "- i.e\n",
    "    - When we load __hello.html__ file from view, it will first load __base.html__, apply every block from __hello.html__ in this case, __{% block title %}__ and __{% block main %}__ and return whole result"
   ]
  },
  {
   "cell_type": "code",
   "execution_count": null,
   "metadata": {
    "collapsed": true
   },
   "outputs": [],
   "source": []
  },
  {
   "cell_type": "markdown",
   "metadata": {},
   "source": [
    "**Let's update login page**"
   ]
  },
  {
   "cell_type": "markdown",
   "metadata": {},
   "source": [
    "__templates/login.html__\n",
    "```html\n",
    "{% extends \"base.html\" %}\n",
    "\n",
    "{% block title %}Login Page{% endblock %}\n",
    "    \n",
    "\n",
    "{% block main %}\n",
    "<div class=\"row\">\n",
    "    <div class=\"col-md-3\"></div>\n",
    "    <div class=\"col-md-6\">\n",
    "    <!-- form starts here -->\n",
    "        <h1>Login</h1>\n",
    "        <hr/>\n",
    "        <form method=\"post\" action=\"\">\n",
    "            <div class=\"form-group\">\n",
    "                <label for=\"email\">Email</label>\n",
    "                <input type=\"email\" class=\"form-control\" id=\"email\" placeholder=\"Email\" name=\"email\">\n",
    "            </div>\n",
    "            <div class=\"form-group\">\n",
    "                <label for=\"password\">Password</label>\n",
    "                <input type=\"password\" class=\"form-control\" id=\"password\" placeholder=\"Password\" name=\"password\">\n",
    "            </div>\n",
    "          \n",
    "            <button type=\"submit\" class=\"btn btn-default\">Login</button>\n",
    "        </form>\n",
    "    \n",
    "    <!-- form ends here -->\n",
    "    </div>\n",
    "</div>\n",
    "{% endblock %}\n",
    "```"
   ]
  },
  {
   "cell_type": "markdown",
   "metadata": {},
   "source": [
    "*Restart the app, and visit http://localhost:5000/login in your browser*\n",
    "\n",
    "![login page](../../images/jalbayu/screenshot_login.png)"
   ]
  },
  {
   "cell_type": "code",
   "execution_count": null,
   "metadata": {
    "collapsed": true
   },
   "outputs": [],
   "source": []
  },
  {
   "cell_type": "markdown",
   "metadata": {
    "collapsed": true
   },
   "source": [
    "### Authentication and Authorization\n",
    "\n",
    "we will use __flask_login__ module for authentication and basic authorization.\n",
    "\n",
    "- __Authentication__ means checking if user is known to us or not, unknown user are _guests_ who visits our public pages, while known users are those who are registered to our application and are logged in and may has profile page.\n",
    "\n",
    "- __Authorization__ means finding out if any user are allowed to do a certain task. For eg. _guest_ user are only allowed to view public pages, _authenticated_ ( logged in ) users are allowed to make some changes on their page and _admin_ user are allowed to do everything including deleting other users. "
   ]
  },
  {
   "cell_type": "markdown",
   "metadata": {},
   "source": [
    "*change __environment.yml__ and update system*\n",
    "\n",
    "__environment.yml__\n",
    "```yaml\n",
    "name: jalbayu\n",
    "dependencies:\n",
    "    - python\n",
    "    - flask\n",
    "    - pip:\n",
    "        - flask_login\n",
    "```\n",
    "\n",
    "*Note that we have put __flask_login__ inside __pip__, this means __pip__ ( the package manager that comes with python ) will be used to install the package since it is not available with __conda__*\n",
    "\n",
    "Now run following command\n",
    "```sh\n",
    "$ conda env update\n",
    "```\n",
    "\n",
    "*This will update current environment, ie looks into yaml file, install/update everything that was add/changed recently*"
   ]
  },
  {
   "cell_type": "markdown",
   "metadata": {},
   "source": [
    "__app.py__\n",
    "\n",
    "```python\n",
    "...\n",
    "from flask_login import LoginManager, login_user, login_required, logout_user\n",
    "\n",
    "...\n",
    "login_manager = LoginManager()\n",
    "login_manager.init_app(application)\n",
    "\n",
    "...\n",
    "\n",
    "class User:\n",
    "    \"\"\"\n",
    "    This is main user class used by login manager to identify users\n",
    "    \"\"\"\n",
    "    \n",
    "    # this will be list of all users who are allowed to login to our application\n",
    "    users = ({\n",
    "        'username': 'test@example.net',\n",
    "        'password': 'pass1'          \n",
    "    },)\n",
    "    authenticated = False\n",
    "    \n",
    "    # this attribute will be populated when user will be authenticated\n",
    "    user = {}\n",
    "    \n",
    "    def is_authenticated(self):\n",
    "        \"\"\"\n",
    "        if user is authenticated or not\n",
    "        \"\"\"\n",
    "        return self.authenticated\n",
    "    \n",
    "    def is_active(self):\n",
    "        \"\"\"\n",
    "        if user is active or not\n",
    "        being active means, user has not be disabled/deactivated/blocked by us or by him/herself\n",
    "        \"\"\"\n",
    "        return True\n",
    "    \n",
    "    def is_anonymous(self):\n",
    "        return False\n",
    "    \n",
    "    def get_id(self):\n",
    "        \"\"\"\n",
    "        return identifier for the user, identifier should be unique to each user\n",
    "        here we are using username of user\n",
    "        \"\"\"\n",
    "        if self.is_authenticated():\n",
    "            return self.user['username']\n",
    "        return None\n",
    "    \n",
    "    @staticmethod\n",
    "    def user_exists(email, password):\n",
    "        \"\"\"\n",
    "        check if user exists in our list of users with given username and password\n",
    "        \"\"\"\n",
    "        user_dct = [dct for dct in User.users if dct['username'] == email \n",
    "                    and dct['password'] == password]\n",
    "        print(\"found user\", user_dct)\n",
    "        if user_dct:\n",
    "            user.user = user_dct[0]\n",
    "            user.authenticated = True\n",
    "            return user\n",
    "        return None\n",
    "\n",
    "@login_manager.user_loader\n",
    "def load_user(user_id):\n",
    "    \"\"\"\n",
    "    this is used by login manager object to load user object from user_id\n",
    "    user_id is obtained from session on consecutive requests\n",
    "    \"\"\"\n",
    "    user_dct = [dct for dct in User.users if dct['username'] == user_id]\n",
    "    user.user = user_dct[0]\n",
    "    return user\n",
    "\n",
    "...\n",
    "@application.route('/login', methods=['GET', 'POST'])\n",
    "def login():\n",
    "    if request.method == 'POST':\n",
    "        # save this data to db or do something\n",
    "        print(\"Posted data\", request.form)\n",
    "        # check if requested user is in our database\n",
    "        # the email and password keys are values of \"name\" attributes in html form see: login.html \n",
    "        user = User.user_exists(request.form['email'], request.form['password'])\n",
    "        if user:\n",
    "            # mark this user as loggedin\n",
    "            login_user(user)\n",
    "            print(\"logged in\")\n",
    "        else:\n",
    "            print(\"Unable to login\")\n",
    "    return render_template('login.html')\n",
    "\n",
    "\n",
    "@application.route('/logout')\n",
    "def logout():\n",
    "    # unmark this user as loggedin\n",
    "    logout_user()\n",
    "    # redirect to index page\n",
    "    return redirect('/')\n",
    "\n",
    "\n",
    "# this page will be accessible as http://localhost:5000/data/add\n",
    "# login_required makes sure that this page is accessible to those who have login credentials and logs in\n",
    "@application.route('/data/add', methods=['GET', 'POST'])\n",
    "@login_required\n",
    "def add_data():\n",
    "    if request.method == 'POST':\n",
    "        # we wont do anything here now\n",
    "        pass\n",
    "        \n",
    "    return render_template('data_add.html')\n",
    "\n",
    "...\n",
    "\n",
    "```\n",
    "\n",
    "__templates/data_add.html__\n",
    "\n",
    "```html\n",
    "{% extends 'base.html' %}\n",
    "\n",
    "{% block main %}\n",
    "<h1>We will show add form here</h1>\n",
    "{% endblock %}\n",
    "```"
   ]
  },
  {
   "cell_type": "markdown",
   "metadata": {},
   "source": [
    "*Restart application*\n",
    "\n",
    "*Visit http://localhost:5000/data/add, you should see something like this*\n",
    "\n",
    "![unauth](../../images/jalbayu/screenshot_unauth.png)\n",
    "\n",
    "This is because __@login_required__ part becomes active here for __/data/add__ route, we have not logged in yet so.\n",
    "\n",
    "- Visit http://localhost:5000/login and use __test@example.net__ as username and __pass1__ as password and click login.\n",
    "- Now visit http://localhost:5000/data/add, you should see something like this\n",
    "\n",
    "![auth](../../images/jalbayu/screenshot_auth.png)\n",
    "\n",
    "*Note: If you are still getting unauthorized page, make sure you are logged in, see terminal/cmd prompt for login message*"
   ]
  },
  {
   "cell_type": "code",
   "execution_count": null,
   "metadata": {
    "collapsed": true
   },
   "outputs": [],
   "source": []
  },
  {
   "cell_type": "markdown",
   "metadata": {},
   "source": [
    "### Databases\n",
    "\n",
    "Storing user data inside python dictionary is not very nice, so we will use a database.\n",
    "\n",
    "- Database can be considered a type of datastructure/storage where we keep our data in a specific format.\n",
    "- Generally they can be viewed as tabular format"
   ]
  },
  {
   "cell_type": "markdown",
   "metadata": {},
   "source": [
    "**Lets create a database**\n",
    "\n",
    "*we will be using sqlite, since we wont have to install anything to use it. Later this can be implemented using either MySQL or PostgreSQL as well with little changes.*"
   ]
  },
  {
   "cell_type": "code",
   "execution_count": 2,
   "metadata": {
    "collapsed": true
   },
   "outputs": [],
   "source": [
    "# import sqlite package\n",
    "import sqlite3"
   ]
  },
  {
   "cell_type": "code",
   "execution_count": 10,
   "metadata": {
    "collapsed": true
   },
   "outputs": [],
   "source": [
    "# create a database, in case of sqlite it is a file\n",
    "conn = sqlite3.connect('../Samples/jalbayu/data/db.sqlite3')"
   ]
  },
  {
   "cell_type": "code",
   "execution_count": 11,
   "metadata": {
    "collapsed": true
   },
   "outputs": [],
   "source": [
    "# create a cursor object\n",
    "cur = conn.cursor()"
   ]
  },
  {
   "cell_type": "code",
   "execution_count": 12,
   "metadata": {
    "collapsed": false
   },
   "outputs": [
    {
     "data": {
      "text/plain": [
       "<sqlite3.Cursor at 0x7fdd30cd9ce0>"
      ]
     },
     "execution_count": 12,
     "metadata": {},
     "output_type": "execute_result"
    }
   ],
   "source": [
    "# Now we will create required tables ie user table with columns id, username and password\n",
    "cur.execute(\"\"\"\n",
    "CREATE TABLE user (\n",
    "    id INTEGER NOT NULL,\n",
    "    username VARCHAR(32),\n",
    "    password VARCHAR(60),\n",
    "    PRIMARY KEY (id),\n",
    "    UNIQUE (username)\n",
    ")\n",
    "\"\"\")"
   ]
  },
  {
   "cell_type": "code",
   "execution_count": 13,
   "metadata": {
    "collapsed": true
   },
   "outputs": [],
   "source": [
    "# commit what we have done till now to disk\n",
    "conn.commit()"
   ]
  },
  {
   "cell_type": "markdown",
   "metadata": {},
   "source": [
    "*Database is similar to Excel Document (if you have used one previously), Tables are as __Sheet__ of Excel and columns are well __Columns__ of a particular Sheet.*"
   ]
  },
  {
   "cell_type": "code",
   "execution_count": 14,
   "metadata": {
    "collapsed": false
   },
   "outputs": [
    {
     "data": {
      "text/plain": [
       "<sqlite3.Cursor at 0x7fdd30cd9ce0>"
      ]
     },
     "execution_count": 14,
     "metadata": {},
     "output_type": "execute_result"
    }
   ],
   "source": [
    "# list out all the data from user table\n",
    "cur.execute(\"SELECT * FROM user\")"
   ]
  },
  {
   "cell_type": "code",
   "execution_count": 15,
   "metadata": {
    "collapsed": false
   },
   "outputs": [
    {
     "data": {
      "text/plain": [
       "[]"
      ]
     },
     "execution_count": 15,
     "metadata": {},
     "output_type": "execute_result"
    }
   ],
   "source": [
    "cur.fetchall()"
   ]
  },
  {
   "cell_type": "markdown",
   "metadata": {},
   "source": [
    "we dont have anything added to database yet"
   ]
  },
  {
   "cell_type": "code",
   "execution_count": 16,
   "metadata": {
    "collapsed": false
   },
   "outputs": [
    {
     "data": {
      "text/plain": [
       "<sqlite3.Cursor at 0x7fdd30cd9ce0>"
      ]
     },
     "execution_count": 16,
     "metadata": {},
     "output_type": "execute_result"
    }
   ],
   "source": [
    "# now add two users to our user table\n",
    "cur.execute(\"INSERT INTO user(id, username, password) VALUES(1, 'test@example.net', 'pass1')\")"
   ]
  },
  {
   "cell_type": "code",
   "execution_count": 18,
   "metadata": {
    "collapsed": false
   },
   "outputs": [
    {
     "data": {
      "text/plain": [
       "<sqlite3.Cursor at 0x7fdd30cd9ce0>"
      ]
     },
     "execution_count": 18,
     "metadata": {},
     "output_type": "execute_result"
    }
   ],
   "source": [
    "cur.execute(\"INSERT INTO user(id, username, password) VALUES(2, 'test2@example.net', 'pass2')\")"
   ]
  },
  {
   "cell_type": "code",
   "execution_count": 19,
   "metadata": {
    "collapsed": true
   },
   "outputs": [],
   "source": [
    "conn.commit()"
   ]
  },
  {
   "cell_type": "code",
   "execution_count": 20,
   "metadata": {
    "collapsed": false
   },
   "outputs": [
    {
     "data": {
      "text/plain": [
       "[(1, 'test@example.net', 'pass1'), (2, 'test2@example.net', 'pass2')]"
      ]
     },
     "execution_count": 20,
     "metadata": {},
     "output_type": "execute_result"
    }
   ],
   "source": [
    "# now check if our data have been actually inserted to db\n",
    "cur.execute(\"SELECT * FROM user\")\n",
    "cur.fetchall()"
   ]
  },
  {
   "cell_type": "code",
   "execution_count": 21,
   "metadata": {
    "collapsed": true
   },
   "outputs": [],
   "source": [
    "# let's close connection to db\n",
    "# we dont want it to be open all the time\n",
    "conn.close()"
   ]
  },
  {
   "cell_type": "code",
   "execution_count": null,
   "metadata": {
    "collapsed": true
   },
   "outputs": [],
   "source": []
  },
  {
   "cell_type": "markdown",
   "metadata": {},
   "source": [
    "*We have added data to db, now we will modify our application to use sqlite database instead of dictionary*"
   ]
  },
  {
   "cell_type": "markdown",
   "metadata": {},
   "source": [
    "*Complete code of __app.py__ looks like this*\n",
    "```python\n",
    "# -*- coding: utf-8 -*-\n",
    "\n",
    "import os\n",
    "import sqlite3\n",
    "\n",
    "# import Flask from module \"flask\"\n",
    "from flask import Flask, render_template, g\n",
    "from flask_login import LoginManager, login_user, login_required, logout_user\n",
    "\n",
    "# we will create a constant for BASEPATH which is current directory of our application\n",
    "BASEPATH = os.path.dirname(os.path.abspath(__file__))\n",
    "\n",
    "print(BASEPATH)\n",
    "\n",
    "# create a new web application object\n",
    "application = Flask(__name__)\n",
    "\n",
    "login_manager = LoginManager()\n",
    "login_manager.init_app(application)\n",
    "\n",
    "DATABASE = os.path.join(BASEPATH, 'data/db.sqlite3')\n",
    "\n",
    "\n",
    "def get_db():\n",
    "    \"\"\"\n",
    "    this will return a database connection object, like \"conn\" we created above\n",
    "      it first checks of connection object is in global scope i.e \"g\" if there is return that\n",
    "      or create new one, put it into global scope and return that\n",
    "    \"\"\"\n",
    "    db = getattr(g, '_database', None)\n",
    "    if db is None:\n",
    "        db = g._database = sqlite3.connect(DATABASE)\n",
    "    return db\n",
    "\n",
    "\n",
    "@application.teardown_appcontext\n",
    "def close_connection(exception):\n",
    "    \"\"\"\n",
    "    this will automatically run when we return response, this closes database for us\n",
    "    \"\"\"\n",
    "    db = getattr(g, '_database', None)\n",
    "    if db is not None:\n",
    "        db.close()\n",
    "\n",
    "\n",
    "class User:\n",
    "    \"\"\"\n",
    "    This is main user class used by login manager to identify users\n",
    "    \"\"\"\n",
    "    authenticated = False\n",
    "    user = {}\n",
    "    \n",
    "    def is_authenticated(self):\n",
    "        return self.authenticated\n",
    "    \n",
    "    def is_active(self):\n",
    "        return True\n",
    "    \n",
    "    def is_anonymous(self):\n",
    "        return False\n",
    "    \n",
    "    def get_id(self):\n",
    "        if self.is_authenticated():\n",
    "            return self.user['id']\n",
    "        return None\n",
    "    \n",
    "    @staticmethod\n",
    "    def user_exists(email, password):\n",
    "        # get cursor object\n",
    "        cur = get_db().cursor()\n",
    "        # select all records with given username and password\n",
    "        user_sql = \"SELECT id, username FROM users WHERE username=? AND password=?\"\n",
    "        cur.execute(user_sql, (email, password))\n",
    "        # we only need one, which proves we have given user in our database\n",
    "        user_record = cur.fetchone()\n",
    "        print(\"record found\", user_record)\n",
    "        if user_record:\n",
    "            # we create a new user object\n",
    "            user = User()\n",
    "            # put details in a dictionary\n",
    "            user.user = {\n",
    "                'id': user_record[0],\n",
    "                'username': user_record[1]\n",
    "            }\n",
    "            # mark this user as authenticated\n",
    "            user.authenticated = True\n",
    "            return user\n",
    "        return None\n",
    "\n",
    "\n",
    "@login_manager.user_loader\n",
    "def load_user(user_id):\n",
    "    \"\"\"\n",
    "    this is used by login manager object to load user object from user_id\n",
    "    user_id is obtained from session on consecutive requests\n",
    "    \"\"\"\n",
    "    cur = get_db().cursor()\n",
    "    # get user by given user id\n",
    "    user_sql = \"SELECT id, username FROM users WHERE id=?\"\n",
    "    cur.execute(user_sql, (user_id,))\n",
    "    user_record = cur.fetchone()\n",
    "    user = User()\n",
    "    user.user = {\n",
    "        'id': user_record[0],\n",
    "        'username': user_record[1]\n",
    "    }\n",
    "    user.authenticated = True\n",
    "    return user\n",
    "\n",
    "\n",
    "# add a new route \n",
    "# http://localhost:5000/\n",
    "@application.route('/')\n",
    "def index():\n",
    "    return render_template('hello.html')\n",
    "\n",
    "\n",
    "@application.route('/login', methods=['GET', 'POST'])\n",
    "def login():\n",
    "    if request.method == 'POST':\n",
    "        # save this data to db or do something\n",
    "        print(\"Posted data\", request.form)\n",
    "        # check if requested user is in our database\n",
    "        user = User.user_exists(request.form['email'], request.form['password'])\n",
    "        if user:\n",
    "            login_user(user)\n",
    "            print(\"logged in\")\n",
    "        else:\n",
    "            print(\"Unable to login\")\n",
    "    return render_template('login.html')\n",
    "\n",
    "\n",
    "@application.route('/logout')\n",
    "def logout():\n",
    "    logout_user()\n",
    "    return redirect('/')\n",
    "\n",
    "\n",
    "@application.route('/data/add', methods=['GET', 'POST'])\n",
    "@login_required\n",
    "def add_data():\n",
    "    if request.method == 'POST':\n",
    "        # we wont do anything here now\n",
    "        pass\n",
    "\n",
    "    return render_template('data_add.html')\n",
    "\n",
    "\n",
    "if __name__ == '__main__':\n",
    "    application.run(debug=True)\n",
    "\n",
    "```"
   ]
  },
  {
   "cell_type": "markdown",
   "metadata": {},
   "source": [
    "*Restart the server and check everything is working just as before, only thing we have changed is used database for user management*"
   ]
  },
  {
   "cell_type": "code",
   "execution_count": null,
   "metadata": {
    "collapsed": true
   },
   "outputs": [],
   "source": []
  },
  {
   "cell_type": "code",
   "execution_count": null,
   "metadata": {
    "collapsed": true
   },
   "outputs": [],
   "source": []
  },
  {
   "cell_type": "markdown",
   "metadata": {},
   "source": [
    "*Note: we can use tools like [sqlitebrowser](http://sqlitebrowser.org/) to create and modify tables*\n",
    "\n",
    "![db browser](../../images/jalbayu/dbbrowser.png)"
   ]
  },
  {
   "cell_type": "code",
   "execution_count": null,
   "metadata": {
    "collapsed": true
   },
   "outputs": [],
   "source": []
  },
  {
   "cell_type": "code",
   "execution_count": null,
   "metadata": {
    "collapsed": true
   },
   "outputs": [],
   "source": []
  },
  {
   "cell_type": "code",
   "execution_count": null,
   "metadata": {
    "collapsed": true
   },
   "outputs": [],
   "source": []
  },
  {
   "cell_type": "code",
   "execution_count": null,
   "metadata": {
    "collapsed": true
   },
   "outputs": [],
   "source": []
  }
 ],
 "metadata": {
  "kernelspec": {
   "display_name": "Python 3",
   "language": "python",
   "name": "python3"
  },
  "language_info": {
   "codemirror_mode": {
    "name": "ipython",
    "version": 3
   },
   "file_extension": ".py",
   "mimetype": "text/x-python",
   "name": "python",
   "nbconvert_exporter": "python",
   "pygments_lexer": "ipython3",
   "version": "3.5.2"
  }
 },
 "nbformat": 4,
 "nbformat_minor": 0
}
