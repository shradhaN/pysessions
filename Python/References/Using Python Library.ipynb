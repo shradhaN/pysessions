{
 "cells": [
  {
   "cell_type": "markdown",
   "metadata": {},
   "source": [
    "# Using Python Packages\n",
    "---"
   ]
  },
  {
   "cell_type": "markdown",
   "metadata": {},
   "source": [
    "- install requests and beautifulsoup\n",
    "\n",
    "- Using Virtualenv\n",
    "\n",
    "```shell\n",
    "\n",
    "$ pip install requests beautifulsoup4\n",
    "\n",
    "```\n",
    "\n",
    "- Using Anaconda/Miniconda\n",
    "\n",
    "```shell\n",
    "\n",
    "$ conda install requests beautifulsoup4\n",
    "\n",
    "```"
   ]
  },
  {
   "cell_type": "code",
   "execution_count": 1,
   "metadata": {
    "collapsed": true
   },
   "outputs": [],
   "source": [
    "# import library\n",
    "import requests"
   ]
  },
  {
   "cell_type": "code",
   "execution_count": 2,
   "metadata": {
    "collapsed": true
   },
   "outputs": [],
   "source": [
    "# now fetch google page with it and store to resp object\n",
    "resp = requests.get('https://www.google.com')\n",
    "\n",
    "# this can be written as well\n",
    "resp = requests.api.get('https://www.google.com')"
   ]
  },
  {
   "cell_type": "code",
   "execution_count": 3,
   "metadata": {
    "collapsed": false
   },
   "outputs": [
    {
     "data": {
      "text/plain": [
       "['__attrs__',\n",
       " '__bool__',\n",
       " '__class__',\n",
       " '__delattr__',\n",
       " '__dict__',\n",
       " '__dir__',\n",
       " '__doc__',\n",
       " '__eq__',\n",
       " '__format__',\n",
       " '__ge__',\n",
       " '__getattribute__',\n",
       " '__getstate__',\n",
       " '__gt__',\n",
       " '__hash__',\n",
       " '__init__',\n",
       " '__iter__',\n",
       " '__le__',\n",
       " '__lt__',\n",
       " '__module__',\n",
       " '__ne__',\n",
       " '__new__',\n",
       " '__nonzero__',\n",
       " '__reduce__',\n",
       " '__reduce_ex__',\n",
       " '__repr__',\n",
       " '__setattr__',\n",
       " '__setstate__',\n",
       " '__sizeof__',\n",
       " '__str__',\n",
       " '__subclasshook__',\n",
       " '__weakref__',\n",
       " '_content',\n",
       " '_content_consumed',\n",
       " 'apparent_encoding',\n",
       " 'close',\n",
       " 'connection',\n",
       " 'content',\n",
       " 'cookies',\n",
       " 'elapsed',\n",
       " 'encoding',\n",
       " 'headers',\n",
       " 'history',\n",
       " 'is_permanent_redirect',\n",
       " 'is_redirect',\n",
       " 'iter_content',\n",
       " 'iter_lines',\n",
       " 'json',\n",
       " 'links',\n",
       " 'ok',\n",
       " 'raise_for_status',\n",
       " 'raw',\n",
       " 'reason',\n",
       " 'request',\n",
       " 'status_code',\n",
       " 'text',\n",
       " 'url']"
      ]
     },
     "execution_count": 3,
     "metadata": {},
     "output_type": "execute_result"
    }
   ],
   "source": [
    "# show what methods/attributes\n",
    "dir(resp)"
   ]
  },
  {
   "cell_type": "code",
   "execution_count": 4,
   "metadata": {
    "collapsed": false
   },
   "outputs": [
    {
     "data": {
      "text/plain": [
       "200"
      ]
     },
     "execution_count": 4,
     "metadata": {},
     "output_type": "execute_result"
    }
   ],
   "source": [
    "# show status code\n",
    "resp.status_code"
   ]
  },
  {
   "cell_type": "code",
   "execution_count": 5,
   "metadata": {
    "collapsed": false
   },
   "outputs": [
    {
     "data": {
      "text/plain": [
       "{'X-XSS-Protection': '1; mode=block', 'Expires': '-1', 'Set-Cookie': 'NID=76=geX2zzvBuCVn4_YqLj5j5SKnL357v3c8nkeVIflx9wb86B8w-UdPAhZ3o2oxQiwYIIIxuyqm4wqkT5kLCRjQ9S72t5a--P_KEPRr2GxxT2nfRevx3RIS9U_dCK1iSDEd; expires=Thu, 11-Aug-2016 06:58:06 GMT; path=/; domain=.google.com.np; HttpOnly', 'Date': 'Wed, 10 Feb 2016 06:58:06 GMT', 'Server': 'gws', 'Content-Encoding': 'gzip', 'P3P': 'CP=\"This is not a P3P policy! See https://www.google.com/support/accounts/answer/151657?hl=en for more info.\"', 'Cache-Control': 'private, max-age=0', 'X-Frame-Options': 'SAMEORIGIN', 'Transfer-Encoding': 'chunked', 'Content-Type': 'text/html; charset=UTF-8'}"
      ]
     },
     "execution_count": 5,
     "metadata": {},
     "output_type": "execute_result"
    }
   ],
   "source": [
    "resp.headers"
   ]
  },
  {
   "cell_type": "code",
   "execution_count": 6,
   "metadata": {
    "collapsed": false
   },
   "outputs": [
    {
     "data": {
      "text/plain": [
       "'<!doctype html><html itemscope=\"\" itemtype=\"http://schema.org/WebPage\" lang=\"ne\"><head><meta content=\"text/html; charset=UTF-8\" http-equiv=\"Content-Type\"><meta content=\"/images/branding/googleg/1x/googleg_standard_color_128dp.png\" itemprop=\"image\"><title>Google</title><script>(function(){window.google={kEI:\\'ft-6VvOiBImNuATF2ICoBg\\',kEXPI:\\'8370,1350255,3700288,3700385,4026241,4028790,4028875,4029815,4031109,4032677,4033307,4036509,4036527,4038012,4039268,4040135,4042785,4042793,4043492,4044606,4045821,4045841,4046304,4047780,4048909,4049549,4049557,4050886,4050891,4050908,4051241,4051559,4051596,4051714,4052304,4054284,4055276,4055553,4056038,4056589,4057170,4057586,4057836,4058004,4058033,4058117,4058337,4058382,4059274,4059316,4059327,4059635,8300273,8300287,8300310,8300318,8502315,8502347,8502451,8502690,8502986,8503039,8503109,8503132,8503212,8503303,8503306,10200083,10201630\\',authuser:0,kscs:\\'c9c918f0_24\\'};google.kHL=\\'ne\\';})();(function(){google.lc=[];google.li=0;google.getEI=function(a){for(var b;a&&(!a.getAttribute||!(b=a.getAttribute(\"eid\")));)a=a.parentNode;return b||google.kEI};google.getLEI=function(a){for(var b=null;a&&(!a.getAttribute||!(b=a.getAttribute(\"leid\")));)a=a.parentNode;return b};google.https=function(){return\"https:\"==window.location.protocol};google.ml=function(){return null};google.wl=function(a,b){try{google.ml(Error(a),!1,b)}catch(d){}};google.time=function(){return(new Date).getTime()};google.log=function(a,b,d,e,g){a=google.logUrl(a,b,d,e,g);if(\"\"!=a){b=new Image;var c=google.lc,f=google.li;c[f]=b;b.onerror=b.onload=b.onabort=function(){delete c[f]};window.google&&window.google.vel&&window.google.vel.lu&&window.google.vel.lu(a);b.src=a;google.li=f+1}};google.logUrl=function(a,b,d,e,g){var c=\"\",f=google.ls||\"\";if(!d&&-1==b.search(\"&ei=\")){var h=google.getEI(e),c=\"&ei=\"+h;-1==b.search(\"&lei=\")&&((e=google.getLEI(e))?c+=\"&lei=\"+e:h!=google.kEI&&(c+=\"&lei=\"+google.kEI))}a=d||\"/\"+(g||\"gen_204\")+\"?atyp=i&ct=\"+a+\"&cad=\"+b+c+f+\"&zx=\"+google.time();/^http:/i.test(a)&&google.https()&&(google.ml(Error(\"a\"),!1,{src:a,glmm:1}),a=\"\");return a};google.y={};google.x=function(a,b){google.y[a.id]=[a,b];return!1};google.load=function(a,b,d){google.x({id:a+k++},function(){google.load(a,b,d)})};var k=0;})();var _gjwl=location;function _gjuc(){var a=_gjwl.href.indexOf(\"#\");if(0<=a&&(a=_gjwl.href.substring(a),0<a.indexOf(\"&q=\")||0<=a.indexOf(\"#q=\"))&&(a=a.substring(1),-1==a.indexOf(\"#\"))){for(var d=0;d<a.length;){var b=d;\"&\"==a.charAt(b)&&++b;var c=a.indexOf(\"&\",b);-1==c&&(c=a.length);b=a.substring(b,c);if(0==b.indexOf(\"fp=\"))a=a.substring(0,d)+a.substring(c,a.length),c=d;else if(\"cad=h\"==b)return 0;d=c}_gjwl.href=\"/search?\"+a+\"&cad=h\";return 1}return 0}\\nfunction _gjh(){!_gjuc()&&window.google&&google.x&&google.x({id:\"GJH\"},function(){google.nav&&google.nav.gjh&&google.nav.gjh()})};window._gjh&&_gjh();</script><style>#gbar,#guser{font-size:13px;padding-top:1px !important;}#gbar{height:22px}#guser{padding-bottom:7px !important;text-align:right}.gbh,.gbd{border-top:1px solid #c9d7f1;font-size:1px}.gbh{height:0;position:absolute;top:24px;width:100%}@media all{.gb1{height:22px;margin-right:.5em;vertical-align:top}#gbar{float:left}}a.gb1,a.gb4{text-decoration:underline !important}a.gb1,a.gb4{color:#00c !important}.gbi .gb4{color:#dd8e27 !important}.gbf .gb4{color:#900 !important}\\n</style><style>body,td,a,p,.h{font-family:arial,sans-serif}body{margin:0;overflow-y:scroll}#gog{padding:3px 8px 0}td{line-height:.8em}.gac_m td{line-height:17px}form{margin-bottom:20px}.h{color:#36c}.q{color:#00c}.ts td{padding:0}.ts{border-collapse:collapse}em{font-weight:bold;font-style:normal}.lst{height:25px;width:496px}.gsfi,.lst{font:18px arial,sans-serif}.gsfs{font:17px arial,sans-serif}.ds{display:inline-box;display:inline-block;margin:3px 0 4px;margin-left:4px}input{font-family:inherit}a.gb1,a.gb2,a.gb3,a.gb4{color:#11c !important}body{background:#fff;color:black}a{color:#11c;text-decoration:none}a:hover,a:active{text-decoration:underline}.fl a{color:#36c}a:visited{color:#551a8b}a.gb1,a.gb4{text-decoration:underline}a.gb3:hover{text-decoration:none}#ghead a.gb2:hover{color:#fff !important}.sblc{padding-top:5px}.sblc a{display:block;margin:2px 0;margin-left:13px;font-size:11px}.lsbb{background:#eee;border:solid 1px;border-color:#ccc #999 #999 #ccc;height:30px}.lsbb{display:block}.ftl,#fll a{display:inline-block;margin:0 12px}.lsb{background:url(/images/nav_logo229.png) 0 -261px repeat-x;border:none;color:#000;cursor:pointer;height:30px;margin:0;outline:0;font:15px arial,sans-serif;vertical-align:top}.lsb:active{background:#ccc}.lst:focus{outline:none}.tiah{width:458px}</style><script></script><link href=\"/images/branding/product/ico/googleg_lodp.ico\" rel=\"shortcut icon\"></head><body bgcolor=\"#fff\"><script>(function(){var src=\\'/images/nav_logo229.png\\';var iesg=false;document.body.onload = function(){window.n && window.n();if (document.images){new Image().src=src;}\\nif (!iesg){document.f&&document.f.q.focus();document.gbqf&&document.gbqf.q.focus();}\\n}\\n})();</script><div id=\"mngb\">    <div id=gbar><nobr><b class=gb1>खोज</b> <a class=gb1 href=\"https://www.google.com.np/imghp?hl=ne&tab=wi\">तस्बिर</a> <a class=gb1 href=\"https://maps.google.com.np/maps?hl=ne&tab=wl\">नक्सा</a> <a class=gb1 href=\"https://mail.google.com/mail/?tab=wm\">जीमेल</a> <a class=gb1 href=\"https://drive.google.com/?tab=wo\">ड्राइभ</a> <a class=gb1 href=\"https://www.google.com/calendar?tab=wc\">पात्रो</a> <a class=gb1 href=\"https://translate.google.com.np/?hl=ne&tab=wT\">अनुबाद गर्नुहोस्</a> <a class=gb1 href=\"https://www.blogger.com/?tab=wj\">ब्लगर</a> <a class=gb1 style=\"text-decoration:none\" href=\"https://www.google.com.np/intl/en/options/\"><u>थप</u> &raquo;</a></nobr></div><div id=guser width=100%><nobr><span id=gbn class=gbi></span><span id=gbf class=gbf></span><span id=gbe></span><a href=\"http://www.google.com.np/history/optout?hl=ne\" class=gb4>वेब इतिहास</a> | <a  href=\"/preferences?hl=ne\" class=gb4>प्राथमिकताहरू</a> | <a target=_top id=gb_70 href=\"https://accounts.google.com/ServiceLogin?hl=ne&passive=true&continue=https://www.google.com.np/%3Fgws_rd%3Dcr%26ei%3DfN-6VrqlCYqcugTQvo24Aw\" class=gb4>साइन इन</a></nobr></div><div class=gbh style=left:0></div><div class=gbh style=right:0></div>    </div><center><br clear=\"all\" id=\"lgpd\"><div id=\"lga\"><div style=\"padding:28px 0 3px\"><div style=\"height:110px;width:276px;background:url(/images/branding/googlelogo/1x/googlelogo_white_background_color_272x92dp.png) no-repeat\" title=\"Google\" align=\"left\" id=\"hplogo\" onload=\"window.lol&&lol()\"><div style=\"color:#777;font-size:16px;font-weight:bold;position:relative;top:70px;left:218px\" nowrap=\"\">\\ufeffनेपाल</div></div></div><br></div><form action=\"/search\" name=\"f\"><table cellpadding=\"0\" cellspacing=\"0\"><tr valign=\"top\"><td width=\"25%\">&nbsp;</td><td align=\"center\" nowrap=\"\"><input value=\"ne\" name=\"hl\" type=\"hidden\"><input name=\"source\" type=\"hidden\" value=\"hp\"><input name=\"biw\" type=\"hidden\"><input name=\"bih\" type=\"hidden\"><div class=\"ds\" style=\"height:32px;margin:4px 0\"><div style=\"position:relative;zoom:1\"><input style=\"color:#000;margin:0;padding:5px 8px 0 6px;vertical-align:top;padding-right:38px\" autocomplete=\"off\" class=\"lst tiah\" value=\"\" title=\"Google खोजी\" maxlength=\"2048\" name=\"q\" size=\"57\"><img src=\"/textinputassistant/tia.png\" style=\"position:absolute;cursor:pointer;right:5px;top:4px;z-index:300\" onclick=\"(function(){var src=\\'/textinputassistant/11/ne_tia.js\\';var s=document.createElement(\\'script\\');s.src=src;google.dom.append(s);})();\" alt=\"\" height=\"23\" width=\"27\"></div></div><br style=\"line-height:0\"><span class=\"ds\"><span class=\"lsbb\"><input class=\"lsb\" value=\"Google खोजी\" name=\"btnG\" type=\"submit\"></span></span><span class=\"ds\"><span class=\"lsbb\"><input class=\"lsb\" value=\"म भाग्यमानी अनुभूति गरिरहेछु\" name=\"btnI\" onclick=\"if(this.form.q.value)this.checked=1; else top.location=\\'/doodles/\\'\" type=\"submit\"></span></span></td><td class=\"fl sblc\" align=\"left\" nowrap=\"\" width=\"25%\"><a href=\"/advanced_search?hl=ne&amp;authuser=0\">उन्नत खोज </a><a href=\"/language_tools?hl=ne&amp;authuser=0\">भाषा उपकरणहरु</a></td></tr></table><input id=\"gbv\" name=\"gbv\" type=\"hidden\" value=\"1\"></form><div id=\"gac_scont\"></div><div style=\"font-size:83%;min-height:3.5em\"><br><div id=\"als\"><style>#als{font-size:small;margin-bottom:24px}#_eEe{display:inline-block;line-height:28px;}#_eEe a{padding:0 3px;}._lEe{display:inline-block;margin:0 2px;white-space:nowrap}._PEe{display:inline-block;margin:0 2px}</style><div id=\"_eEe\">Google.com.np निम्न भाषामा छान्नुहोस्: <a href=\"https://www.google.com.np/setprefs?sig=0_nc277QJBSJhhmEywVFqVbnXsyXs%3D&amp;hl=en&amp;source=homepage\">English</a> </div></div></div><span id=\"footer\"><div style=\"font-size:10pt\"><div style=\"margin:19px auto;text-align:center\" id=\"fll\"><a href=\"/intl/ne/about.html\">Googleको बारेमा सम्पूर्ण</a><a href=\"https://www.google.com.np/setprefdomain?prefdom=US&amp;sig=__px6FLBMrtt2uxPIBz-EEpaLs7_E%3D\" id=\"fehl\">Google.com</a></div></div><p style=\"color:#767676;font-size:8pt\">&copy; 2016</p></span></center><script>(function(){window.google.cdo={height:0,width:0};(function(){var a=window.innerWidth,b=window.innerHeight;if(!a||!b)var c=window.document,d=\"CSS1Compat\"==c.compatMode?c.documentElement:c.body,a=d.clientWidth,b=d.clientHeight;a&&b&&(a!=google.cdo.width||b!=google.cdo.height)&&google.log(\"\",\"\",\"/client_204?&atyp=i&biw=\"+a+\"&bih=\"+b+\"&ei=\"+google.kEI);})();})();</script><div id=\"xjsd\"></div><div id=\"xjsi\"><script>(function(){function c(b){window.setTimeout(function(){var a=document.createElement(\"script\");a.src=b;document.getElementById(\"xjsd\").appendChild(a)},0)}google.dljp=function(b,a){google.xjsu=b;c(a)};google.dlj=c;})();(function(){window.google.xjsrm=[];})();if(google.y)google.y.first=[];if(!google.xjs){window._=window._||{};window._._DumpException=function(e){throw e};if(google.timers&&google.timers.load.t){google.timers.load.t.xjsls=new Date().getTime();}google.dljp(\\'/xjs/_/js/k\\\\x3dxjs.hp.en_US.7wpkBpWphJA.O/m\\\\x3dsb_he,d/rt\\\\x3dj/d\\\\x3d1/t\\\\x3dzcms/rs\\\\x3dACT90oEsGYAoIrVwrHrJeJ6q1a7Zoj-UCg\\',\\'/xjs/_/js/k\\\\x3dxjs.hp.en_US.7wpkBpWphJA.O/m\\\\x3dsb_he,d/rt\\\\x3dj/d\\\\x3d1/t\\\\x3dzcms/rs\\\\x3dACT90oEsGYAoIrVwrHrJeJ6q1a7Zoj-UCg\\');google.xjs=1;}google.pmc={\"sb_he\":{\"agen\":true,\"cgen\":true,\"client\":\"heirloom-hp\",\"dh\":true,\"dhqt\":true,\"ds\":\"\",\"fl\":true,\"host\":\"google.com.np\",\"isbh\":28,\"jam\":0,\"jsonp\":true,\"msgs\":{\"cibl\":\"स्पष्ट खोजी\",\"dym\":\"के तपाईँ ले यो भन्न खोज्नु भएको हो ?\",\"lcky\":\"म भाग्यमानी अनुभूति गरिरहेछु\",\"lml\":\"अधिक जानकारी\",\"oskt\":\"आगत उपकरणहरू\",\"psrc\":\"यो खोजी \\\\u003Ca href=\\\\\"/history\\\\\"\\\\u003E तपाईको वेब इतिहास\\\\u003C/a\\\\u003Eबाट हटाइयो\",\"psrl\":\"हटाउनुहोस\",\"sbit\":\"चित्रद्वारा खोज्नुहोस्\",\"srch\":\"Google खोजी\"},\"ovr\":{},\"pq\":\"\",\"refpd\":true,\"rfs\":[],\"scd\":10,\"sce\":5,\"stok\":\"NX73XLaQ9oqKTyqWnw6y3j_KzyQ\"},\"d\":{}};google.y.first.push(function(){if(google.med){google.med(\\'init\\');google.initHistory();google.med(\\'history\\');}});if(google.j&&google.j.en&&google.j.xi){window.setTimeout(google.j.xi,0);}\\n</script></div></body></html>'"
      ]
     },
     "execution_count": 6,
     "metadata": {},
     "output_type": "execute_result"
    }
   ],
   "source": [
    "resp.text"
   ]
  },
  {
   "cell_type": "code",
   "execution_count": null,
   "metadata": {
    "collapsed": true
   },
   "outputs": [],
   "source": []
  },
  {
   "cell_type": "code",
   "execution_count": 7,
   "metadata": {
    "collapsed": true
   },
   "outputs": [],
   "source": [
    "# import can be done this way\n",
    "from bs4 import BeautifulSoup"
   ]
  },
  {
   "cell_type": "code",
   "execution_count": 8,
   "metadata": {
    "collapsed": true
   },
   "outputs": [],
   "source": [
    "# now lets parse obtained html file\n",
    "soup = BeautifulSoup(resp.text, 'lxml')"
   ]
  },
  {
   "cell_type": "code",
   "execution_count": 9,
   "metadata": {
    "collapsed": false
   },
   "outputs": [
    {
     "data": {
      "text/plain": [
       "<a class=\"gb1\" href=\"https://www.google.com.np/imghp?hl=ne&amp;tab=wi\">तस्बिर</a>"
      ]
     },
     "execution_count": 9,
     "metadata": {},
     "output_type": "execute_result"
    }
   ],
   "source": [
    "# find first a tag\n",
    "soup.find('a')"
   ]
  },
  {
   "cell_type": "code",
   "execution_count": 10,
   "metadata": {
    "collapsed": false
   },
   "outputs": [
    {
     "data": {
      "text/plain": [
       "[<span class=\"gbi\" id=\"gbn\"></span>,\n",
       " <span class=\"gbf\" id=\"gbf\"></span>,\n",
       " <span id=\"gbe\"></span>,\n",
       " <span class=\"ds\"><span class=\"lsbb\"><input class=\"lsb\" name=\"btnG\" type=\"submit\" value=\"Google खोजी\"/></span></span>,\n",
       " <span class=\"lsbb\"><input class=\"lsb\" name=\"btnG\" type=\"submit\" value=\"Google खोजी\"/></span>,\n",
       " <span class=\"ds\"><span class=\"lsbb\"><input class=\"lsb\" name=\"btnI\" onclick=\"if(this.form.q.value)this.checked=1; else top.location='/doodles/'\" type=\"submit\" value=\"म भाग्यमानी अनुभूति गरिरहेछु\"/></span></span>,\n",
       " <span class=\"lsbb\"><input class=\"lsb\" name=\"btnI\" onclick=\"if(this.form.q.value)this.checked=1; else top.location='/doodles/'\" type=\"submit\" value=\"म भाग्यमानी अनुभूति गरिरहेछु\"/></span>,\n",
       " <span id=\"footer\"><div style=\"font-size:10pt\"><div id=\"fll\" style=\"margin:19px auto;text-align:center\"><a href=\"/intl/ne/about.html\">Googleको बारेमा सम्पूर्ण</a><a href=\"https://www.google.com.np/setprefdomain?prefdom=US&amp;sig=__px6FLBMrtt2uxPIBz-EEpaLs7_E%3D\" id=\"fehl\">Google.com</a></div></div><p style=\"color:#767676;font-size:8pt\">© 2016</p></span>]"
      ]
     },
     "execution_count": 10,
     "metadata": {},
     "output_type": "execute_result"
    }
   ],
   "source": [
    "# find all span\n",
    "soup.find_all('span')"
   ]
  },
  {
   "cell_type": "code",
   "execution_count": 15,
   "metadata": {
    "collapsed": false
   },
   "outputs": [
    {
     "name": "stdout",
     "output_type": "stream",
     "text": [
      "https://www.google.com/\n"
     ]
    }
   ],
   "source": [
    "for each in resp.history:\n",
    "    print(each.url)"
   ]
  },
  {
   "cell_type": "code",
   "execution_count": null,
   "metadata": {
    "collapsed": true
   },
   "outputs": [],
   "source": []
  },
  {
   "cell_type": "markdown",
   "metadata": {},
   "source": [
    "** H/W: crawl some site using requests and beautifulsoup **"
   ]
  },
  {
   "cell_type": "markdown",
   "metadata": {},
   "source": [
    "## Example\n",
    "---\n",
    "\n",
    "** Code below uses mechnanize package to crawl through songs.pk, use beautifulsoup and requests instead **\n",
    "\n",
    "```python\n",
    "#!/usr/bin/env python\n",
    "\n",
    "import os\n",
    "import shutil\n",
    "import subprocess\n",
    "import mechanize\n",
    "from collections import defaultdict\n",
    "\n",
    "\n",
    "# __file__ returns path of this file ( one currently running )\n",
    "# os.path.abspath -> returns absolute path\n",
    "# os.path.dirname -> returns directory name\n",
    "basepath = os.path.abspath(os.path.dirname(__file__))\n",
    "songsdir = os.path.join(basepath, 'Songs')\n",
    "tempdir = os.path.join(basepath, 'temp')\n",
    "\n",
    "# initialize directory\n",
    "if not os.path.exists(songsdir):\n",
    "    os.mkdir(songsdir)\n",
    "\n",
    "if not os.path.exists(tempdir):\n",
    "    os.mkdir(tempdir)\n",
    "\n",
    "\n",
    "url = 'http://www.songspk.pk'\n",
    "\n",
    "\"\"\"\n",
    "mechanize is browser implementation library\n",
    "\n",
    " doesnot require any browser for it to work => it itself is a browser\n",
    "\"\"\"\n",
    "browser = mechanize.Browser()\n",
    "browser.open(url)\n",
    "\n",
    "browser.follow_link(text_regex=r'Bollywood\\s*Songs', nr=1)\n",
    "\n",
    "\n",
    "movies_list = [line.strip() for line in open('pkmovies.txt', 'r').readlines()\n",
    "               if line.strip()]\n",
    "\n",
    "indexed_movies = defaultdict(list)\n",
    "for movie in movies_list:\n",
    "    char = movie[0]\n",
    "    if char.isdigit():\n",
    "        indexed_movies['numeric'].append(movie)\n",
    "    elif char.isalpha():\n",
    "        indexed_movies[char.lower()].append(movie)\n",
    "    else:\n",
    "        pass\n",
    "\n",
    "\n",
    "def open_movie_page(title):\n",
    "    # open movie page, collect download urls process download and go back\n",
    "    print('Loading page for ... {}'.format(title))\n",
    "    browser.follow_link(text_regex=title)\n",
    "    links = browser.links(url_regex=r'songid=')\n",
    "    moviepath = os.path.join(songsdir, title)\n",
    "    if not os.path.exists(moviepath):\n",
    "        os.mkdir(moviepath)\n",
    "    download_all(moviepath, links)\n",
    "    browser.back()\n",
    "\n",
    "\n",
    "def download_all(movie_path, links):\n",
    "    # create movie folder create multiple subprocess each with wget\n",
    "    global tempdir\n",
    "    for link in links:\n",
    "        songname = link.text + '.mp3'\n",
    "        print('Downloading... {}'.format(songname))\n",
    "        if os.path.exists(os.path.join(movie_path, songname)):\n",
    "            print('File exists ... skipping')\n",
    "            continue\n",
    "        os.chdir(tempdir)\n",
    "        subprocess.call([\"wget\", \"-O\", songname, link.url])\n",
    "        shutil.move(os.path.join(tempdir, songname), movie_path)\n",
    "\n",
    "\n",
    "def open_list_page(index):\n",
    "    links = browser.links(url_regex='{}_list.html'.format(index))\n",
    "    browser.follow_link(links.next())\n",
    "\n",
    "\n",
    "for index, movies in indexed_movies.items():\n",
    "    open_list_page(index)\n",
    "    for m in movies:\n",
    "        open_movie_page(m)\n",
    "    browser.back()\n",
    "```\n",
    "\n",
    "** Note: to use above code, just use *pip install mechanize*, it also requires *wget* so may not work in windows **\n",
    "\n",
    "** It is very old code so may not work altogether **"
   ]
  },
  {
   "cell_type": "markdown",
   "metadata": {},
   "source": [
    "** Above code reads file something like this **\n",
    "\n",
    "- pkmovies.txt\n",
    "\n",
    "```\n",
    "\n",
    "7 Khoon Maaf - 2011\n",
    "3 Idiots\n",
    "1942 - A Love Story\n",
    "```"
   ]
  },
  {
   "cell_type": "code",
   "execution_count": null,
   "metadata": {
    "collapsed": true
   },
   "outputs": [],
   "source": []
  },
  {
   "cell_type": "code",
   "execution_count": null,
   "metadata": {
    "collapsed": true
   },
   "outputs": [],
   "source": [
    "class SomeClass:\n",
    "    def __init__(self):\n",
    "        pass"
   ]
  }
 ],
 "metadata": {
  "anaconda-cloud": {},
  "kernelspec": {
   "display_name": "Python [default]",
   "language": "python",
   "name": "python3"
  },
  "language_info": {
   "codemirror_mode": {
    "name": "ipython",
    "version": 3
   },
   "file_extension": ".py",
   "mimetype": "text/x-python",
   "name": "python",
   "nbconvert_exporter": "python",
   "pygments_lexer": "ipython3",
   "version": "3.5.2"
  }
 },
 "nbformat": 4,
 "nbformat_minor": 0
}
