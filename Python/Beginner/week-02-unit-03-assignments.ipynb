{
 "cells": [
  {
   "cell_type": "markdown",
   "metadata": {},
   "source": [
    "# Assignment\n",
    "---"
   ]
  },
  {
   "cell_type": "markdown",
   "metadata": {
    "collapsed": true
   },
   "source": [
    "To complete this assignment, you have to complete the __Begineers__ tutorial as well as go through some of the __Intermediate__ and __References__ tutorials."
   ]
  },
  {
   "cell_type": "markdown",
   "metadata": {
    "collapsed": true
   },
   "source": [
    "**Create a commandline library management system with following features**\n",
    "\n",
    "- Should be able to add/retrieve/update/delete books from library\n",
    "- Should be able to search books using keywords, such as tags and categories\n",
    "- Should be able to lend books to other people, in that case should store name of people as well\n",
    "\n",
    "**Should look like this when run in terminal**\n",
    "\n",
    "```sh\n",
    "$ mylib\n",
    "This is my personal library management system ver. 0.5.0\n",
    "Diwaker Ghimire (c) 2016\n",
    "\n",
    "$ mylib add\n",
    "Name: Harry Potter and the Philosopher's Stone\n",
    "Author: J. K. Rowling\n",
    "Published: 1997-06-26\n",
    "Series: Harry Potter\n",
    "Genre: Fantasy\n",
    "Tags [separated by comma]: Harry Potter, Magic, Hogwarts\n",
    "Save Now [Y/N]: Y\n",
    "\n",
    "$ mylib search magic\n",
    "Harry Potter and the Philosopher's Stone\n",
    "Harry Potter and the Chamber of Secrets\n",
    "...\n",
    "\n",
    "```"
   ]
  },
  {
   "cell_type": "markdown",
   "metadata": {},
   "source": [
    "**Related Materials**\n",
    "\n",
    "- Database with SQLite\n",
    "- Commandline application with click\n",
    "- String Formatting"
   ]
  },
  {
   "cell_type": "code",
   "execution_count": null,
   "metadata": {
    "collapsed": true
   },
   "outputs": [],
   "source": []
  }
 ],
 "metadata": {
  "anaconda-cloud": {},
  "kernelspec": {
   "display_name": "Python [default]",
   "language": "python",
   "name": "python3"
  },
  "language_info": {
   "codemirror_mode": {
    "name": "ipython",
    "version": 3
   },
   "file_extension": ".py",
   "mimetype": "text/x-python",
   "name": "python",
   "nbconvert_exporter": "python",
   "pygments_lexer": "ipython3",
   "version": "3.5.2"
  }
 },
 "nbformat": 4,
 "nbformat_minor": 0
}
