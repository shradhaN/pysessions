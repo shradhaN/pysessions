{
 "cells": [
  {
   "cell_type": "markdown",
   "metadata": {},
   "source": [
    "# Conda Environments\n",
    "---"
   ]
  },
  {
   "cell_type": "markdown",
   "metadata": {},
   "source": [
    "## conda\n",
    "\n",
    "`conda` is commandline tool that comes with Anaconda package. `conda` helps manage virtual envrionments and packages within those environments."
   ]
  },
  {
   "cell_type": "markdown",
   "metadata": {},
   "source": [
    "These commands while running in terminal/cmd prompt won't require exclamation(!)"
   ]
  },
  {
   "cell_type": "markdown",
   "metadata": {},
   "source": [
    "    $ conda --help"
   ]
  },
  {
   "cell_type": "code",
   "execution_count": 1,
   "metadata": {
    "collapsed": false
   },
   "outputs": [
    {
     "name": "stdout",
     "output_type": "stream",
     "text": [
      "usage: conda [-h] [-V] [--debug] command ...\n",
      "\n",
      "conda is a tool for managing and deploying applications, environments and packages.\n",
      "\n",
      "Options:\n",
      "\n",
      "positional arguments:\n",
      "  command\n",
      "    info         Display information about current conda install.\n",
      "    help         Displays a list of available conda commands and their help\n",
      "                 strings.\n",
      "    list         List linked packages in a conda environment.\n",
      "    search       Search for packages and display their information. The input\n",
      "                 is a Python regular expression. To perform a search with a\n",
      "                 search string that starts with a -, separate the search from\n",
      "                 the options with --, like 'conda search -- -h'. A * in the\n",
      "                 results means that package is installed in the current\n",
      "                 environment. A . means that package is not installed but is\n",
      "                 cached in the pkgs directory.\n",
      "    create       Create a new conda environment from a list of specified\n",
      "                 packages.\n",
      "    install      Installs a list of packages into a specified conda\n",
      "                 environment.\n",
      "    update       Updates conda packages to the latest compatible version. This\n",
      "                 command accepts a list of package names and updates them to\n",
      "                 the latest versions that are compatible with all other\n",
      "                 packages in the environment. Conda attempts to install the\n",
      "                 newest versions of the requested packages. To accomplish\n",
      "                 this, it may update some packages that are already installed,\n",
      "                 or install additional packages. To prevent existing packages\n",
      "                 from updating, use the --no-update-deps option. This may\n",
      "                 force conda to install older versions of the requested\n",
      "                 packages, and it does not prevent additional dependency\n",
      "                 packages from being installed. If you wish to skip dependency\n",
      "                 checking altogether, use the '--force' option. This may\n",
      "                 result in an environment with incompatible packages, so this\n",
      "                 option must be used with great caution.\n",
      "    upgrade      Alias for conda update. See conda update --help.\n",
      "    remove       Remove a list of packages from a specified conda environment.\n",
      "    uninstall    Alias for conda remove. See conda remove --help.\n",
      "    config       Modify configuration values in .condarc. This is modeled\n",
      "                 after the git config command. Writes to the user .condarc\n",
      "                 file (/home/idwaker/.condarc) by default.\n",
      "    init         Initialize conda into a regular environment (when conda was\n",
      "                 installed as a Python package, e.g. using pip). (DEPRECATED)\n",
      "    clean        Remove unused packages and caches.\n",
      "    package      Low-level conda package utility. (EXPERIMENTAL)\n",
      "    bundle       Create or extract a \"bundle package\" (EXPERIMENTAL)\n",
      "\n",
      "optional arguments:\n",
      "  -h, --help     Show this help message and exit.\n",
      "  -V, --version  Show the conda version number and exit.\n",
      "  --debug        Show debug output.\n",
      "\n",
      "other commands:\n",
      "    env          positional arguments:\n",
      "                   {attach,create,export,list,remove,upload,update}\n",
      "                     attach              Embeds information describing your conda environment\n",
      "                                         into the notebook metadata\n",
      "                     create              Create an environment based on an environment file\n",
      "                     export              Export a given environment\n",
      "                     list                List the Conda environments\n",
      "                     remove              Remove an environment\n",
      "                     upload              Upload an environment to anaconda.org\n",
      "                     update              Update the current environment based on environment\n",
      "                                         file\n"
     ]
    }
   ],
   "source": [
    "!conda --help"
   ]
  },
  {
   "cell_type": "markdown",
   "metadata": {},
   "source": [
    "### Create a new environment\n",
    "\n",
    "    $ conda create -n datascience python"
   ]
  },
  {
   "cell_type": "code",
   "execution_count": 2,
   "metadata": {
    "collapsed": false
   },
   "outputs": [
    {
     "name": "stdout",
     "output_type": "stream",
     "text": [
      "Fetching package metadata .......\n",
      "Solving package specifications: ..........\n",
      "\n",
      "Package plan for installation in environment /home/idwaker/share/miniconda3/envs/datascience:\n",
      "\n",
      "The following packages will be downloaded:\n",
      "\n",
      "    package                    |            build\n",
      "    ---------------------------|-----------------\n",
      "    setuptools-25.1.6          |           py35_0         478 KB\n",
      "\n",
      "The following NEW packages will be INSTALLED:\n",
      "\n",
      "    openssl:    1.0.2h-1     \n",
      "    pip:        8.1.2-py35_0 \n",
      "    python:     3.5.2-0      \n",
      "    readline:   6.2-2        \n",
      "    setuptools: 25.1.6-py35_0\n",
      "    sqlite:     3.13.0-0     \n",
      "    tk:         8.5.18-0     \n",
      "    wheel:      0.29.0-py35_0\n",
      "    xz:         5.2.2-0      \n",
      "    zlib:       1.2.8-3      \n",
      "\n",
      "Fetching packages ...\n",
      "setuptools-25. 100% |################################| Time: 0:00:01 321.25 kB/s\n",
      "Extracting packages ...\n",
      "[      COMPLETE      ]|###################################################| 100%\n",
      "Linking packages ...\n",
      "[      COMPLETE      ]|###################################################| 100%\n",
      "No psutil available.\n",
      "To proceed, please conda install psutil#\n",
      "# To activate this environment, use:\n",
      "# $ source activate datascience\n",
      "#\n",
      "# To deactivate this environment, use:\n",
      "# $ source deactivate\n",
      "#\n"
     ]
    }
   ],
   "source": [
    "# -y to subpress \"Are you sure\" while installing packages, it means put y in every question by default\n",
    "!conda create -n datascience python -y"
   ]
  },
  {
   "cell_type": "markdown",
   "metadata": {},
   "source": [
    "### Listing all environments\n",
    "\n",
    "    $ conda env list"
   ]
  },
  {
   "cell_type": "code",
   "execution_count": 3,
   "metadata": {
    "collapsed": false
   },
   "outputs": [
    {
     "name": "stdout",
     "output_type": "stream",
     "text": [
      "# conda environments:\r\n",
      "#\r\n",
      "datascience              /home/idwaker/share/miniconda3/envs/datascience\r\n",
      "graphics                 /home/idwaker/share/miniconda3/envs/graphics\r\n",
      "jalbayu                  /home/idwaker/share/miniconda3/envs/jalbayu\r\n",
      "pysession                /home/idwaker/share/miniconda3/envs/pysession\r\n",
      "rlang                    /home/idwaker/share/miniconda3/envs/rlang\r\n",
      "root                  *  /home/idwaker/share/miniconda3\r\n",
      "\r\n"
     ]
    }
   ],
   "source": [
    "!conda env list"
   ]
  },
  {
   "cell_type": "markdown",
   "metadata": {},
   "source": [
    "_asterisk (\\*) means this is our current active environment_"
   ]
  },
  {
   "cell_type": "markdown",
   "metadata": {},
   "source": [
    "### Listing all packages within the environment\n",
    "\n",
    "    $ conda list"
   ]
  },
  {
   "cell_type": "code",
   "execution_count": 4,
   "metadata": {
    "collapsed": false
   },
   "outputs": [
    {
     "name": "stdout",
     "output_type": "stream",
     "text": [
      "# packages in environment at /home/idwaker/share/miniconda3:\r\n",
      "#\r\n",
      "conda                     4.1.11                   py35_0  \r\n",
      "conda-env                 2.5.2                    py35_0  \r\n",
      "openssl                   1.0.2h                        1  \r\n",
      "pip                       8.1.2                    py35_0  \r\n",
      "pycosat                   0.6.1                    py35_1  \r\n",
      "pycrypto                  2.6.1                    py35_4  \r\n",
      "python                    3.5.2                         0  \r\n",
      "pyyaml                    3.11                     py35_4  \r\n",
      "readline                  6.2                           2  \r\n",
      "requests                  2.10.0                   py35_0  \r\n",
      "ruamel_yaml               0.11.14                  py35_0  \r\n",
      "setuptools                23.0.0                   py35_0  \r\n",
      "sqlite                    3.13.0                        0  \r\n",
      "tk                        8.5.18                        0  \r\n",
      "wheel                     0.29.0                   py35_0  \r\n",
      "xz                        5.2.2                         0  \r\n",
      "yaml                      0.1.6                         0  \r\n",
      "zlib                      1.2.8                         3  \r\n"
     ]
    }
   ],
   "source": [
    "!conda list"
   ]
  },
  {
   "cell_type": "markdown",
   "metadata": {},
   "source": [
    "### Updating all package in this environment\n",
    "\n",
    "    $ conda update --all"
   ]
  },
  {
   "cell_type": "code",
   "execution_count": 6,
   "metadata": {
    "collapsed": false
   },
   "outputs": [
    {
     "name": "stdout",
     "output_type": "stream",
     "text": [
      "Fetching package metadata .......\n",
      "Solving package specifications: ..........\n",
      "\n",
      "Package plan for installation in environment /home/idwaker/share/miniconda3:\n",
      "\n",
      "The following packages will be UPDATED:\n",
      "\n",
      "    setuptools: 23.0.0-py35_0 --> 25.1.6-py35_0\n",
      "\n",
      "Unlinking packages ...\n",
      "[      COMPLETE      ]|###################################################| 100%\n",
      "Linking packages ...\n",
      "[      COMPLETE      ]|###################################################| 100%\n"
     ]
    }
   ],
   "source": [
    "!conda update --all -y"
   ]
  },
  {
   "cell_type": "markdown",
   "metadata": {},
   "source": [
    "### Installing a package in current environment\n",
    "\n",
    "    $ conda install requests"
   ]
  },
  {
   "cell_type": "code",
   "execution_count": 7,
   "metadata": {
    "collapsed": false
   },
   "outputs": [
    {
     "name": "stdout",
     "output_type": "stream",
     "text": [
      "Fetching package metadata .......\n",
      "Solving package specifications: ..........\n",
      "\n",
      "# All requested packages already installed.\n",
      "# packages in environment at /home/idwaker/share/miniconda3:\n",
      "#\n",
      "requests                  2.10.0                   py35_0  \n"
     ]
    }
   ],
   "source": [
    "!conda install requests -y"
   ]
  },
  {
   "cell_type": "markdown",
   "metadata": {},
   "source": [
    "*Note: requests was already installed in above environment*"
   ]
  },
  {
   "cell_type": "markdown",
   "metadata": {},
   "source": [
    "### Search for a package if that can be installed using conda\n",
    "\n",
    "    $ conda search flask"
   ]
  },
  {
   "cell_type": "code",
   "execution_count": 8,
   "metadata": {
    "collapsed": false
   },
   "outputs": [
    {
     "name": "stdout",
     "output_type": "stream",
     "text": [
      "Fetching package metadata .......\n",
      "flask                        0.9                      py26_0  defaults        \n",
      "                             0.9                      py27_0  defaults        \n",
      "                             0.10                     py27_0  defaults        \n",
      "                             0.10.1                   py26_0  defaults        \n",
      "                             0.10.1                   py27_0  defaults        \n",
      "                             0.10.1                   py26_1  defaults        \n",
      "                             0.10.1                   py27_1  defaults        \n",
      "                             0.10.1                   py33_1  defaults        \n",
      "                             0.10.1                   py34_1  defaults        \n",
      "                             0.10.1                   py35_1  defaults        \n",
      "                             0.10.1                   py27_2  defaults        \n",
      "                             0.10.1                   py34_2  defaults        \n",
      "                             0.10.1                   py35_2  defaults        \n",
      "                             0.11                     py27_0  defaults        \n",
      "                             0.11                     py34_0  defaults        \n",
      "                             0.11                     py35_0  defaults        \n",
      "                             0.11.1                   py27_0  defaults        \n",
      "                             0.11.1                   py34_0  defaults        \n",
      "                          .  0.11.1                   py35_0  defaults        \n",
      "flask-cors                   2.1.2                    py27_0  defaults        \n",
      "                             2.1.2                    py34_0  defaults        \n",
      "                             2.1.2                    py35_0  defaults        \n",
      "flask-ldap-login             0.3.0                    py27_0  defaults        \n",
      "                             0.3.0                    py27_1  defaults        \n",
      "flask-login                  0.2.11                   py26_0  defaults        \n",
      "                             0.2.11                   py27_0  defaults        \n",
      "                             0.2.11                   py33_0  defaults        \n",
      "                             0.2.11                   py34_0  defaults        \n",
      "                             0.2.11                   py35_0  defaults        \n",
      "                             0.3.2                    py27_0  defaults        \n",
      "                             0.3.2                    py34_0  defaults        \n",
      "                             0.3.2                    py35_0  defaults        \n",
      "flask-wtf                    0.11                     py26_0  defaults        \n",
      "                             0.11                     py27_0  defaults        \n",
      "                             0.11                     py33_0  defaults        \n",
      "                             0.11                     py34_0  defaults        \n",
      "                             0.11                     py35_0  defaults        \n",
      "                             0.12                     py27_0  defaults        \n",
      "                             0.12                     py34_0  defaults        \n",
      "                             0.12                     py35_0  defaults        \n"
     ]
    }
   ],
   "source": [
    "!conda search flask"
   ]
  },
  {
   "cell_type": "markdown",
   "metadata": {},
   "source": [
    "*Note: It searched all the packages starting with flask and versions installable for different versions of __python__*"
   ]
  },
  {
   "cell_type": "markdown",
   "metadata": {},
   "source": [
    "### Conda environment management using environment.yml file\n",
    "\n",
    "1. Create a yaml file named __environment.yml__, e.g.\n",
    "```yaml\n",
    "name: environ_name\n",
    "dependencies:\n",
    "    - python\n",
    "    - flask\n",
    "```\n",
    "2. To create a environment, __conda env create__ must be run within the folder which contains __environment.yml__\n",
    "```sh\n",
    "    $ conda env create\n",
    "```\n",
    "3. Updating a environment, after making changes, e.g\n",
    "```yaml\n",
    "name: environ_name\n",
    "dependencies:\n",
    "    - python\n",
    "    - flask\n",
    "    - pip:\n",
    "        - flask_login\n",
    "```\n",
    "\n",
    "```sh\n",
    "    $ conda env update\n",
    "```"
   ]
  },
  {
   "cell_type": "markdown",
   "metadata": {},
   "source": [
    "*In above example, while creating a new enviornment, conda will choose name from __name__ key, and will install packages listed in __dependencies__, those packages will be downloaded and installed by __conda__ command.*\n",
    "\n",
    "*While some packages may not be present on __conda__ repository, so listing those packages inside __pip__, will use __pip__ command to installed such packages.*"
   ]
  },
  {
   "cell_type": "markdown",
   "metadata": {},
   "source": [
    "## Creating new environment and Installing Jupyter\n",
    "---\n",
    "\n",
    "\n",
    "Terminal commands to create environment and install jupyter\n",
    "\n",
    "check if conda is properly installed\n",
    "\n",
    "    $ conda --version\n",
    "\n",
    "create conda environment ( \"datascience\" )\n",
    "\n",
    "    $ conda create -n datascience python\n",
    "\n",
    "activate created environment ( Linux/MacosX )\n",
    "\n",
    "    $ source activate datascience\n",
    "\n",
    "activate created environment ( Windows )\n",
    "\n",
    "    $ activate datascience\n",
    "\n",
    "install jupyter\n",
    "\n",
    "    $ conda install jupyter\n",
    "\n",
    "run jupyter notebook server\n",
    "\n",
    "    $ jupyter-notebook\n",
    "\n",
    "deactivate environment ( Windows )\n",
    "\n",
    "    $ deactivate\n",
    "\n",
    "deactivate environement ( Linux/MacOS )\n",
    "\n",
    "    $ source deactivate\n",
    "\n",
    "*Some packages are not available through __conda__, in that case we will use __pip__ to install such packages.*\n",
    "\n",
    "    $ pip install pyramid"
   ]
  }
 ],
 "metadata": {
  "kernelspec": {
   "display_name": "Python 3",
   "language": "python",
   "name": "python3"
  },
  "language_info": {
   "codemirror_mode": {
    "name": "ipython",
    "version": 3
   },
   "file_extension": ".py",
   "mimetype": "text/x-python",
   "name": "python",
   "nbconvert_exporter": "python",
   "pygments_lexer": "ipython3",
   "version": "3.5.2"
  }
 },
 "nbformat": 4,
 "nbformat_minor": 0
}
